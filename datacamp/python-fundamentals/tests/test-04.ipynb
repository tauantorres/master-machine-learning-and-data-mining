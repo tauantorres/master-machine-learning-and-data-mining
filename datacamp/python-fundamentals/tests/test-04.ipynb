{
 "cells": [
  {
   "cell_type": "code",
   "execution_count": 30,
   "metadata": {},
   "outputs": [
    {
     "name": "stdout",
     "output_type": "stream",
     "text": [
      "   id  age          city\n",
      "1   2   30       Chicago\n",
      "2   3   35  San Franciso\n",
      "3   4   40   Los Angeles\n"
     ]
    }
   ],
   "source": [
    "# Question 01\n",
    "import pandas as pd \n",
    "\n",
    "citizens_dict = {\n",
    "    \"id\": [1, 2, 3, 4, 5],\n",
    "    \"age\" : [25, 30, 35, 40, 45],\n",
    "    \"city\": [\"New York\", \"Chicago\", \"San Franciso\", \"Los Angeles\", \"New York\"]\n",
    "}\n",
    "\n",
    "citizens = pd.DataFrame(citizens_dict)\n",
    "\n",
    "# Get the subset of citizens who come from any city that is not New York\n",
    "citizens_city = citizens[citizens[\"city\"] != \"New York\"]\n",
    "print(citizens_city)"
   ]
  },
  {
   "cell_type": "code",
   "execution_count": 11,
   "metadata": {},
   "outputs": [
    {
     "name": "stdout",
     "output_type": "stream",
     "text": [
      "RangeIndex(start=0, stop=3, step=1)\n"
     ]
    }
   ],
   "source": [
    "# How to remove the index fcrom the subset\n",
    "citizens_city = citizens_city.reset_index(drop=True)\n",
    "print(citizens_city.index)"
   ]
  },
  {
   "cell_type": "code",
   "execution_count": 31,
   "metadata": {},
   "outputs": [
    {
     "name": "stdout",
     "output_type": "stream",
     "text": [
      "RangeIndex(start=0, stop=5, step=1)\n"
     ]
    }
   ],
   "source": [
    "#  Question 02:\n",
    "import pandas as pd\n",
    "\n",
    "data = {\n",
    "    \"months\": [1, 2, 4, 5, 8],\n",
    "    \"year\": [2012, 2012, 2013, 2014, 2015],\n",
    "    \"sale\": [55000, 40000, 84000, 31000, 27000],\n",
    "}\n",
    "\n",
    "df = pd.DataFrame(data)\n",
    "df_with_index = df.reset_index(drop=True)\n",
    "print(df_with_index.index)"
   ]
  },
  {
   "cell_type": "code",
   "execution_count": 14,
   "metadata": {},
   "outputs": [
    {
     "name": "stdout",
     "output_type": "stream",
     "text": [
      "categories  Books  Electronics  Groceries\n",
      "date                                     \n",
      "2021-01-01      0            0          1\n",
      "2021-01-02      0            1          0\n",
      "2021-01-03      0            0          1\n",
      "2021-01-04      0            1          0\n",
      "2021-01-05      1            0          0\n"
     ]
    }
   ],
   "source": [
    "# Question 03:\n",
    "import pandas as pd \n",
    "\n",
    "data = {\n",
    "    \"date\": [\"2021-01-01\", \"2021-01-02\", \"2021-01-03\", \"2021-01-04\", \"2021-01-05\"],\n",
    "    \"categories\": [\"Groceries\", \"Electronics\", \"Groceries\", \"Electronics\", \"Books\"],\n",
    "}\n",
    "df = pd.DataFrame(data)\n",
    "\n",
    "summary_df = pd.crosstab(df[\"date\"], df[\"categories\"])\n",
    "print(summary_df)\n"
   ]
  },
  {
   "cell_type": "code",
   "execution_count": 32,
   "metadata": {},
   "outputs": [
    {
     "name": "stdout",
     "output_type": "stream",
     "text": [
      "   id  age      city\n",
      "0   1   25  New York\n",
      "4   5   45  New York\n"
     ]
    }
   ],
   "source": [
    "# Question 04\n",
    "import pandas as pd \n",
    "\n",
    "citizens_dict = {\n",
    "    \"id\": [1, 2, 3, 4, 5],\n",
    "    \"age\" : [25, 30, 35, 40, 45],\n",
    "    \"city\": [\"New York\", \"Chicago\", \"San Franciso\", \"Los Angeles\", \"New York\"]\n",
    "}\n",
    "\n",
    "citizens = pd.DataFrame(citizens_dict)\n",
    "\n",
    "# Get the subset of citizens who come from New York\n",
    "citizens_city = citizens[citizens[\"city\"] == \"New York\"]\n",
    "print(citizens_city)"
   ]
  },
  {
   "cell_type": "code",
   "execution_count": 33,
   "metadata": {},
   "outputs": [
    {
     "name": "stdout",
     "output_type": "stream",
     "text": [
      "MultiIndex([(2012, 1),\n",
      "            (2012, 2),\n",
      "            (2013, 4),\n",
      "            (2014, 5),\n",
      "            (2015, 8)],\n",
      "           names=['year', 'months'])\n"
     ]
    }
   ],
   "source": [
    "#  Question 05:\n",
    "import pandas as pd\n",
    "\n",
    "data = {\n",
    "    \"months\": [1, 2, 4, 5, 8],\n",
    "    \"year\": [2012, 2012, 2013, 2014, 2015],\n",
    "    \"sale\": [55000, 40000, 84000, 31000, 27000],\n",
    "}\n",
    "\n",
    "df = pd.DataFrame(data)\n",
    "\n",
    "df_with_index = df.set_index([\"year\", \"months\"])\n",
    "print(df_with_index.index)"
   ]
  },
  {
   "cell_type": "code",
   "execution_count": 20,
   "metadata": {},
   "outputs": [
    {
     "name": "stdout",
     "output_type": "stream",
     "text": [
      "min      8.9900\n",
      "mean    15.0125\n",
      "max     23.9500\n",
      "Name: price, dtype: float64\n"
     ]
    }
   ],
   "source": [
    "# Question 06:\n",
    "import pandas as pd\n",
    "\n",
    "data = {\n",
    "    \"book_names\": [\"To Kill a Mocjingbird\", \"1984\", \"The Great Gatsby\", \"Pride and Prejudice\"],\n",
    "    \"country\": [\"US\", \"UK\", \"US\", \"UK\"],\n",
    "    \"price\": [23.95, 13.39, 13.72, 8.99]\n",
    "}\n",
    "\n",
    "df = pd.DataFrame(data)\n",
    "\n",
    "\n",
    "result = df[\"price\"].agg([\"min\", \"mean\", \"max\"])\n",
    "print(result)"
   ]
  },
  {
   "cell_type": "code",
   "execution_count": 37,
   "metadata": {},
   "outputs": [],
   "source": [
    "import pandas as pd\n",
    "\n",
    "data = {\n",
    "    \"name\": [\"John\", \"Anna\", \"Peter\", \"Linda\"],\n",
    "    \"purchase_category\": [\"bed\", \"table\", \"chair\", None],\n",
    "    \"storage_location\": [\"New York\", \"Chicago\", None, \"Los Angeles\"]\n",
    "}\n",
    "\n",
    "df = pd.DataFrame(data)"
   ]
  },
  {
   "cell_type": "code",
   "execution_count": 38,
   "metadata": {},
   "outputs": [
    {
     "name": "stdout",
     "output_type": "stream",
     "text": [
      "0    False\n",
      "1    False\n",
      "2     True\n",
      "3    False\n",
      "Name: storage_location, dtype: bool\n"
     ]
    }
   ],
   "source": [
    "missing_values = pd.isnull(df[\"storage_location\"])\n",
    "print(missing_values)"
   ]
  },
  {
   "cell_type": "code",
   "execution_count": 39,
   "metadata": {},
   "outputs": [
    {
     "name": "stdout",
     "output_type": "stream",
     "text": [
      "    name purchase_category storage_location\n",
      "0   John               bed         New York\n",
      "1   Anna             table          Chicago\n",
      "2  Peter             chair             None\n",
      "3  Linda           unknown      Los Angeles\n"
     ]
    }
   ],
   "source": [
    "df[\"purchase_category\"] = df[\"purchase_category\"].fillna(\"unknown\")\n",
    "print(df)"
   ]
  },
  {
   "cell_type": "code",
   "execution_count": null,
   "metadata": {},
   "outputs": [],
   "source": []
  }
 ],
 "metadata": {
  "kernelspec": {
   "display_name": ".venv",
   "language": "python",
   "name": "python3"
  },
  "language_info": {
   "codemirror_mode": {
    "name": "ipython",
    "version": 3
   },
   "file_extension": ".py",
   "mimetype": "text/x-python",
   "name": "python",
   "nbconvert_exporter": "python",
   "pygments_lexer": "ipython3",
   "version": "3.11.4"
  }
 },
 "nbformat": 4,
 "nbformat_minor": 2
}
